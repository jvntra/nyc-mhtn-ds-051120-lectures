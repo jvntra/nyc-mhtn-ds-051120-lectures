{
 "cells": [
  {
   "cell_type": "markdown",
   "metadata": {},
   "source": [
    "# Module 1 Code Challenge Review\n",
    "\n",
    "_May 20, 2020_\n",
    "\n",
    "Agenda today:\n",
    "- Code Challenge Expectation & Logistics\n",
    "- Review four topics:\n",
    "    - Pandas operations\n",
    "    - Statistics in Pandas\n",
    "    - Data Visualization\n",
    "    - Python Data Structure\n",
    "- Q&A session \n",
    "- Sample Code Challenge Deployment"
   ]
  },
  {
   "cell_type": "markdown",
   "metadata": {},
   "source": [
    "### Part I. Code Challenge Expectations & Logistics\n",
    "\n",
    "#### When\n",
    "May 21, 2020 at 9:30 am - 11:00 am. \n",
    "\n",
    "#### Where\n",
    "Same ZOOM link as lecture. \n",
    "\n",
    "#### Guidelines\n",
    "- Students are not allowed to talk or message with others during the code challenge\n",
    "- Students are allowed to use the static internet resources, notes, or past labs/READMEs\n",
    "- Students are not allowed to copy/paste code. While this may not be enforceable, we can set - the expectation that students should be able to write the code from scratch in the time available, using existing code as reference\n",
    "- Part of the assessment is interpreting the questions correctly, so proctors will not answer questions about the content of the challenge \n",
    "- Students should submit their PRs before the end of the 90 minutes\n",
    "\n",
    "#### Proctoring \n",
    "We will put you in separate break out rooms in which you will share your screen while completing the assessment. We will let you know at when there are 60 minutes, 30 mins, 15 mins, and 5 mins left to complete the assessment. You can ask for help by sending proctorers a private message or raise hand in Zoom. \n",
    "\n",
    "#### SUBMISSION \n",
    "Instructions for submission will be covered in details later today. \n",
    "\n",
    "**Before Assessment**\n",
    "- Click assessment link on Learn in Assignments Tab. This will open in GitHub.\n",
    "- Click clone to copy and paste the link\n",
    "- Go to computer terminal and type: git clone URL\n",
    "- Enter the folder: cd module….\n",
    "- git branch firstname-lastname\n",
    "- git checkout firstname-lastname\n",
    "- git branch #make sure you’re in your branch\n",
    "- Open Jupyter Notebook and open assessment file\n",
    "\n",
    "**Once Assessment is complete**\n",
    "- Save and close the notebook \n",
    "- Control-z in terminal to quit Jupyter notebook\n",
    "- git add assessment-file-name\n",
    "- git commit -m “submitting assessment”\n",
    "- git push origin firstname-lastname\n",
    "- Go back to GitHub and grab the URL of your branch\n",
    "- Paste your branch URL from the page URL, not the clone URL, into the Learn Assessment URL field and click submit."
   ]
  }
 ],
 "metadata": {
  "kernelspec": {
   "display_name": "Python 3",
   "language": "python",
   "name": "python3"
  },
  "language_info": {
   "codemirror_mode": {
    "name": "ipython",
    "version": 3
   },
   "file_extension": ".py",
   "mimetype": "text/x-python",
   "name": "python",
   "nbconvert_exporter": "python",
   "pygments_lexer": "ipython3",
   "version": "3.7.3"
  }
 },
 "nbformat": 4,
 "nbformat_minor": 2
}
