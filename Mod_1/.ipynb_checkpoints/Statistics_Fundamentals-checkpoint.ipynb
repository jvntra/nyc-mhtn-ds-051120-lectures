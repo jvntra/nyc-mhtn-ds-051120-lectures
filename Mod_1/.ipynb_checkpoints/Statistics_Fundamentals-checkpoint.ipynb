{
 "cells": [
  {
   "cell_type": "markdown",
   "metadata": {},
   "source": [
    "# Statistics Fundamentals \n",
    "\n",
    "_May 12, 2020_\n",
    "\n",
    "Agenda today:\n",
    "- Measure of central tendency: mean, median, mode\n",
    "- Measure of dispersion: variance, standard deviation\n",
    "- Measure of relationship: covariance and correlation"
   ]
  },
  {
   "cell_type": "code",
   "execution_count": 1,
   "metadata": {
    "collapsed": true
   },
   "outputs": [],
   "source": [
    "import numpy as np\n",
    "import matplotlib.pyplot as plt"
   ]
  },
  {
   "cell_type": "markdown",
   "metadata": {},
   "source": [
    "## Part I. Mean, Median, and Mode\n",
    "What are the definition of the three measurements?"
   ]
  },
  {
   "cell_type": "code",
   "execution_count": 2,
   "metadata": {
    "scrolled": true
   },
   "outputs": [
    {
     "data": {
      "text/plain": [
       "<matplotlib.text.Text at 0x118595f98>"
      ]
     },
     "execution_count": 2,
     "metadata": {},
     "output_type": "execute_result"
    }
   ],
   "source": [
    "array = [10,11,11,12,11,13,14,16,17,18,19,20,22,24,26,22,24]\n",
    "# plot it out and examine it \n",
    "plt.style.use('fivethirtyeight')\n",
    "plt.hist(array)\n",
    "plt.ylabel('count')"
   ]
  },
  {
   "cell_type": "markdown",
   "metadata": {},
   "source": [
    "What is the above plot called? What kind of values can it be used to represent?"
   ]
  },
  {
   "cell_type": "markdown",
   "metadata": {},
   "source": [
    "## Part II. Measure of Dispersion\n",
    "Two measurements of dispersion we will be concerned with is **variance** and **standard deviation**. They are both measurement of variability of dataset. Why might we need a measure of variability in addition to central tendency?"
   ]
  },
  {
   "cell_type": "markdown",
   "metadata": {},
   "source": [
    "#### Variance calculation:\n",
    "$$ \\large \\sigma^2 = \\dfrac{1}{n}\\displaystyle\\sum^n_{i=1}(x_i-\\mu)^2 $$\n",
    "\n",
    "#### Standard deviation calculation:\n",
    "$$ \\large \\sigma = \\sqrt{\\dfrac{1}{n}\\displaystyle\\sum^n_{i=1}(x_i-\\mu)^2} $$"
   ]
  },
  {
   "cell_type": "code",
   "execution_count": 3,
   "metadata": {},
   "outputs": [],
   "source": [
    "# exercises\n",
    "\n",
    "# can you write a function that takes in an array, calculate the variance and standard deviation?\n",
    "def calculate_variance(array):\n",
    "    '''\n",
    "    calculate the variance of an array\n",
    "    '''\n",
    "    from statistics import mean\n",
    "    \n",
    "    n = len(array)\n",
    "    \n",
    "    arrmean = mean(array)\n",
    "    \n",
    "    variance = (1/n) * sum([(array[i]-arrmean)**2 for i in range(n)])\n",
    "    \n",
    "    return variance\n",
    "    "
   ]
  },
  {
   "cell_type": "code",
   "execution_count": 9,
   "metadata": {},
   "outputs": [],
   "source": [
    "def calculate_std(array):\n",
    "    '''\n",
    "    calculate the standard deviation of an array\n",
    "    '''\n",
    "    from statistics import mean\n",
    "    \n",
    "    n = len(array)\n",
    "    \n",
    "    arrmean = mean(array)\n",
    "    \n",
    "    variance = (1/n)*sum([(array[i]-arrmean)**2 for i in range(n)])\n",
    "    \n",
    "    return variance**0.5"
   ]
  },
  {
   "cell_type": "code",
   "execution_count": 18,
   "metadata": {},
   "outputs": [
    {
     "name": "stdout",
     "output_type": "stream",
     "text": [
      "JP's variance = 139.55555555555554 \n",
      "JP's stdev = 11.813363431112899\n",
      "\n",
      "Numpy's variance = 139.555555556 \n",
      "Numpy's stdev = 11.8133634311\n"
     ]
    }
   ],
   "source": [
    "# checking my results...\n",
    "\n",
    "my_arr = [10,12,36]\n",
    "\n",
    "print(\"JP's variance = \" + str(calculate_variance(my_arr)),\"\\nJP's stdev = \" +  str(calculate_std(my_arr)) + \"\\n\") \n",
    "\n",
    "print(\"Numpy's variance = \" + str(np.var(my_arr)),\"\\nNumpy's stdev = \" +  str(np.std(my_arr)) ) \n",
    "   "
   ]
  },
  {
   "cell_type": "code",
   "execution_count": null,
   "metadata": {},
   "outputs": [],
   "source": []
  },
  {
   "cell_type": "markdown",
   "metadata": {},
   "source": [
    "## Part III. Covariance and Correlation\n",
    "Covariance and correlation measures the degree of two variables' relationship. \n",
    "\n",
    "#### Covariance calculation:\n",
    "$$Cov_{X,Y} = \\dfrac{1}{n}\\displaystyle\\sum_{i=1}^{n}(x_i -\\mu_x)(y_i - \\mu_y)$$\n",
    "\n",
    "#### Correlation calculation:\n",
    "$$ r = \\frac{\\sum_{i=1}^{n}(x_i -\\mu_x)(y_i - \\mu_y)} {\\sigma_x  \\sigma_y}$$"
   ]
  },
  {
   "cell_type": "markdown",
   "metadata": {},
   "source": [
    "<img src= 'https://raw.githubusercontent.com/learn-co-curriculum/dsc-correlation-covariance/master/images/correx.svg'>"
   ]
  },
  {
   "cell_type": "code",
   "execution_count": 60,
   "metadata": {},
   "outputs": [],
   "source": [
    "## exercises: define functions that calculate covariance & correlation\n",
    "\n",
    "def calculate_covariance(array1, array2):\n",
    "    '''\n",
    "    calculate the covariance of two arrays\n",
    "    '''\n",
    "    \n",
    "    from statistics import mean\n",
    "    \n",
    "    # Assuming both arrays are of the same length:\n",
    "    n = len(array1)     \n",
    "    \n",
    "    arr1mean = mean(array1)\n",
    "    arr2mean = mean(array2)\n",
    "    \n",
    "    covariance =  * sum( [ ((array1[i]-arr1mean) * (array2[i]-arr2mean)) for i in range(n) ] )\n",
    "    \n",
    "    return covariance \n",
    "                      "
   ]
  },
  {
   "cell_type": "code",
   "execution_count": 73,
   "metadata": {
    "scrolled": true
   },
   "outputs": [
    {
     "name": "stdout",
     "output_type": "stream",
     "text": [
      "80.66666666666666\n"
     ]
    },
    {
     "data": {
      "text/plain": [
       "80.666666666666671"
      ]
     },
     "execution_count": 73,
     "metadata": {},
     "output_type": "execute_result"
    }
   ],
   "source": [
    "print(calculate_covariance(my_arr1,my_arr2))\n",
    "\n",
    "np.cov(my_arr1,my_arr2, bias=True)[0][1]"
   ]
  },
  {
   "cell_type": "code",
   "execution_count": 71,
   "metadata": {},
   "outputs": [],
   "source": [
    "def calculate_correlation(array1, array2):\n",
    "    '''\n",
    "    calculate the correlation of two arrays\n",
    "    '''\n",
    "    \n",
    "    from statistics import mean\n",
    "    \n",
    "    # Assuming both arrays are of the same length:\n",
    "    n = len(array1)     \n",
    "    \n",
    "    arr1mean = mean(array1)\n",
    "    arr2mean = mean(array2)\n",
    "    \n",
    "    covariance = (1/n) * sum( [ ((array1[i]-arr1mean)*(array2[i]-arr2mean)) for i in range(n) ] )\n",
    "    \n",
    "    sigma_x = calculate_std(array1)\n",
    "    sigma_y = calculate_std(array2)\n",
    "    \n",
    "    return covariance / (sigma_x * sigma_y)\n",
    "                      "
   ]
  },
  {
   "cell_type": "code",
   "execution_count": 77,
   "metadata": {},
   "outputs": [
    {
     "name": "stdout",
     "output_type": "stream",
     "text": [
      "JP's covariance = 80.66666666666666 \n",
      "JP's correlation = 1.0000000000000002\n",
      "\n",
      "Numpy's covariance = 80.6666666667 \n",
      "Numpy's correlation = 1.0\n"
     ]
    }
   ],
   "source": [
    "my_arr1 = [10,21,32]\n",
    "my_arr2 = [40,51,62]\n",
    "\n",
    "\n",
    "calculate_correlation(my_arr1,my_arr2)\n",
    "\n",
    "print(\"JP's covariance = \" + str(calculate_covariance(my_arr1,my_arr2)),\"\\nJP's correlation = \" + \n",
    "      str(calculate_correlation(my_arr1,my_arr2)) + \"\\n\") \n",
    "\n",
    "print(\"Numpy's covariance = \" + str(np.cov(my_arr1,my_arr2,bias=True)[0][1]),\"\\nNumpy's correlation = \" + \n",
    "      str(np.corrcoef(my_arr1,my_arr2)[0][1]) ) \n",
    "   "
   ]
  }
 ],
 "metadata": {
  "kernelspec": {
   "display_name": "Python 3",
   "language": "python",
   "name": "python3"
  },
  "language_info": {
   "codemirror_mode": {
    "name": "ipython",
    "version": 3
   },
   "file_extension": ".py",
   "mimetype": "text/x-python",
   "name": "python",
   "nbconvert_exporter": "python",
   "pygments_lexer": "ipython3",
   "version": "3.7.6"
  }
 },
 "nbformat": 4,
 "nbformat_minor": 2
}
